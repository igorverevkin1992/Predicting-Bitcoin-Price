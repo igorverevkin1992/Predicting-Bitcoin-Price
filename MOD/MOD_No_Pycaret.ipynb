{
 "cells": [
  {
   "cell_type": "markdown",
   "id": "2a9eb42e",
   "metadata": {},
   "source": [
    "# CAPSTONE 3. Predicting Major Cryptocurrencies Prices\n",
    "## Modeling"
   ]
  },
  {
   "cell_type": "markdown",
   "id": "149da6a8",
   "metadata": {},
   "source": [
    "In this notebook we will continue to implement different times series forecasting algorithms in order to predict Bitcoin price. In particular, we will build three models:\n",
    "<ul>\n",
    "    <i>Exponential Smoothing</i> - a time series forecasting method for univariate data, which can be used as an alternative for ARIMA family of methods<br>\n",
    "    <i>Prophet</i> - a time-series forecasting model developped by Facebook<br>\n",
    "    <i>PyCaret</i> - a Python version of the Caret machine learning package in R<br>\n",
    "</ul>\n",
    "As always, we will train the models on the training set and evaluate them on the test set. The train and test sets will be the same that we used in the previous notebook.<br>"
   ]
  },
  {
   "cell_type": "code",
   "execution_count": 1,
   "id": "cc3a8a61",
   "metadata": {},
   "outputs": [],
   "source": [
    "import pandas as pd\n",
    "import numpy as np\n",
    "import matplotlib.pyplot as plt\n",
    "import plotly\n",
    "import plotly.express as px\n",
    "import seaborn as sns\n",
    "import warnings\n",
    "import os\n",
    "from statsmodels.tsa.holtwinters import ExponentialSmoothing\n",
    "from fbprophet import Prophet\n",
    "from sklearn.metrics import r2_score, mean_squared_error, mean_absolute_percentage_error\n",
    "from joblib import Parallel\n",
    "from joblib import delayed\n",
    "from multiprocessing import cpu_count\n",
    "from math import sqrt\n",
    "import logging\n",
    "logger = logging.getLogger('pycaret.regression')\n",
    "logger.setLevel(logging.CRITICAL)\n",
    "\n",
    "warnings.filterwarnings('ignore')\n",
    "\n",
    "#setting figure's default size\n",
    "sns.set(rc={'figure.figsize':(12,5)})\n",
    "plt.rcParams['figure.figsize'] = (12,5)\n",
    "\n",
    "sns.set_style('whitegrid')\n",
    "\n",
    "pd.options.display.float_format = \"{:.3f}\".format"
   ]
  },
  {
   "cell_type": "markdown",
   "id": "8bccf40e",
   "metadata": {},
   "source": [
    "First, let's import the data we saved in the previous step. We will use it for our analysis."
   ]
  },
  {
   "cell_type": "code",
   "execution_count": 2,
   "id": "c0c356e6",
   "metadata": {},
   "outputs": [],
   "source": [
    "df = pd.read_pickle('../PTDD/df.pkl')\n",
    "train = np.load('../PTDD/train.npy')\n",
    "test = np.load('../PTDD/test.npy')\n",
    "btc = pd.read_pickle('../EDA/btc.pkl')\n",
    "btc_val = np.load('../PTDD/btc_val.npy')\n",
    "btc_price = btc['Price']"
   ]
  },
  {
   "cell_type": "code",
   "execution_count": 3,
   "id": "55dd26bd",
   "metadata": {},
   "outputs": [
    {
     "name": "stdout",
     "output_type": "stream",
     "text": [
      "Train set observations: 2977\n",
      "Test set observations: 30\n"
     ]
    }
   ],
   "source": [
    "print(f'Train set observations: {len(train)}')\n",
    "print(f'Test set observations: {len(test)}')"
   ]
  },
  {
   "cell_type": "markdown",
   "id": "0f10343a",
   "metadata": {},
   "source": [
    "And take a look once again at BTC price time series."
   ]
  },
  {
   "cell_type": "code",
   "execution_count": 4,
   "id": "b067c7c9",
   "metadata": {},
   "outputs": [
    {
     "data": {
      "image/png": "[encoded data removed]",
      "text/plain": [
       "<Figure size 864x360 with 1 Axes>"
      ]
     },
     "metadata": {},
     "output_type": "display_data"
    }
   ],
   "source": [
    "sns.lineplot(data=btc, x='Date', y='Price', color='Gold')\n",
    "plt.title(f'April 2013 - July 2021 BTC price')\n",
    "plt.xlabel('Date')\n",
    "plt.ylabel('Price (USD)')\n",
    "plt.show();"
   ]
  },
  {
   "cell_type": "markdown",
   "id": "6b1f5293",
   "metadata": {},
   "source": [
    "### Algorithm 1 - Exponential Smoothing"
   ]
  },
  {
   "cell_type": "markdown",
   "id": "40351ded",
   "metadata": {},
   "source": [
    "Exponential Smoothing (ES) is a time series forecasting algorithm which can be seen as an analog for Box-Jenkins ARIMA family of methonds. Both of them make a prediction as a weighted sum of previous observations. The main difference is that Exponential Smoothing uses an exponentially decreasing weight for previous observations, using parameter named \"alpha\". The bigger alpha is, the less important the older observations become for the prediction. If alpha is small, on the other hand, then the model pays more attention to the older obserbations."
   ]
  },
  {
   "cell_type": "markdown",
   "id": "04cd7a0b",
   "metadata": {},
   "source": [
    "There are three types of Exponential Smoothing:<br>\n",
    "<ol>\n",
    "    1. Single Exponential Smoothing - does not take into account trend and seasonalirt<br>\n",
    "    2. Double Exponential Smoothing - takes trend into account<br>\n",
    "    3. Triple Exponential Smoothing - takes into account both trend and seasonality<br>\n",
    "</ol>"
   ]
  },
  {
   "cell_type": "markdown",
   "id": "2f4fd056",
   "metadata": {},
   "source": [
    "We know from the previous step that our time series is not stationary. We are not sure if it has clear seasonality, so we will build Double ES model first and than compare it to Triple ES, to see how seasonality will affect the model's performance.<br>\n",
    "It is also important to understand what kind of trend our time series has - additive or multiplicative (we will need to specify it as a hyperparameter). On the graph we see that even though in the last couple month there is an exponential growth, for 5 years before that the general trend seems to be linear, so we will assume the additive trend as our baseline option."
   ]
  },
  {
   "cell_type": "code",
   "execution_count": 5,
   "id": "1019595e",
   "metadata": {},
   "outputs": [
    {
     "name": "stdout",
     "output_type": "stream",
     "text": [
      "                       ExponentialSmoothing Model Results                       \n",
      "================================================================================\n",
      "Dep. Variable:                    endog   No. Observations:                 2977\n",
      "Model:             ExponentialSmoothing   SSE                              8.079\n",
      "Optimized:                         True   AIC                         -17584.349\n",
      "Trend:                         Additive   BIC                         -17560.354\n",
      "Seasonal:                          None   AICC                        -17584.320\n",
      "Seasonal Periods:                  None   Date:                 Mon, 26 Jul 2021\n",
      "Box-Cox:                          False   Time:                         18:06:39\n",
      "Box-Cox Coeff.:                    None                                         \n",
      "==============================================================================\n",
      "                       coeff                 code              optimized      \n",
      "------------------------------------------------------------------------------\n",
      "smoothing_level            0.9456609                alpha                 True\n",
      "smoothing_trend             0.000000                 beta                 True\n",
      "initial_level             -0.5787680                  l.0                 True\n",
      "initial_trend              0.0010073                  b.0                 True\n",
      "------------------------------------------------------------------------------\n"
     ]
    }
   ],
   "source": [
    "# initializing a model, fitting on the train set and predicting for the next 30 observations (equivalent to the test set length)\n",
    "btc_es_model_add = ExponentialSmoothing(train, trend='add', damped=False)\n",
    "btc_es_model_add_fit = btc_es_model_add.fit()\n",
    "print(btc_es_model_add_fit.summary())\n",
    "btc_es_model_add_pred = btc_es_model_add_fit.forecast(30)"
   ]
  },
  {
   "cell_type": "code",
   "execution_count": 6,
   "id": "aee9b8b3",
   "metadata": {},
   "outputs": [],
   "source": [
    "predictions_test_add = [x for x in btc_es_model_add_pred] # List with predicted test values\n",
    "observations_test_add = [x for x in test] # List with expected test values"
   ]
  },
  {
   "cell_type": "code",
   "execution_count": 7,
   "id": "1eb36f1b",
   "metadata": {},
   "outputs": [
    {
     "name": "stdout",
     "output_type": "stream",
     "text": [
      "Test set r-squared for Double ES (additive) is: -0.24\n",
      "Test set MAPE for Double ES (additive) is: 5.0%\n"
     ]
    }
   ],
   "source": [
    "r2 = r2_score(observations_test_add, predictions_test_add)\n",
    "print(f'Test set r-squared for Double ES (additive) is: {round(r2, 2)}')\n",
    "mape = mean_absolute_percentage_error(observations_test_add, predictions_test_add)\n",
    "print(f'Test set MAPE for Double ES (additive) is: {round(mape, 2) * 100}%')"
   ]
  },
  {
   "cell_type": "code",
   "execution_count": 8,
   "id": "7fc9e2b0",
   "metadata": {},
   "outputs": [
    {
     "data": {
      "image/png": "[encoded data removed]",
      "text/plain": [
       "<Figure size 864x360 with 1 Axes>"
      ]
     },
     "metadata": {},
     "output_type": "display_data"
    }
   ],
   "source": [
    "plt.plot(observations_test_add, label='Expected')\n",
    "plt.plot(predictions_test_add, label='Predicted', color='red', alpha=0.5)\n",
    "legend = plt.legend(loc='upper center', shadow=True, fontsize='x-large')\n",
    "plt.title(\"Train set Predicted vs Expected\")\n",
    "\n",
    "plt.show()"
   ]
  },
  {
   "cell_type": "markdown",
   "id": "cad64df5",
   "metadata": {},
   "source": [
    "As we can see, Exponential Smoothing with additive trend didn't work pretty much at all. We have a negative r-squared which means the model fits the data even worse than just a straight line. The Mean Absolute Percentage Error is also higher (5% against 3% of ARIMA(2,1,1)). Let's try to change the trend parameter to multiplicative."
   ]
  },
  {
   "cell_type": "code",
   "execution_count": null,
   "id": "bc6fe1d8",
   "metadata": {},
   "outputs": [],
   "source": []
  },
  {
   "cell_type": "code",
   "execution_count": 9,
   "id": "aa18e5a5",
   "metadata": {},
   "outputs": [
    {
     "ename": "NameError",
     "evalue": "name 'train_esm' is not defined",
     "output_type": "error",
     "traceback": [
      "\u001b[1;31m---------------------------------------------------------------------------\u001b[0m",
      "\u001b[1;31mNameError\u001b[0m                                 Traceback (most recent call last)",
      "\u001b[1;32m~\\AppData\\Local\\Temp/ipykernel_17672/2998678694.py\u001b[0m in \u001b[0;36m<module>\u001b[1;34m\u001b[0m\n\u001b[1;32m----> 1\u001b[1;33m \u001b[0mbtc_es_model_mul\u001b[0m \u001b[1;33m=\u001b[0m \u001b[0mExponentialSmoothing\u001b[0m\u001b[1;33m(\u001b[0m\u001b[0mtrain_esm\u001b[0m\u001b[1;33m,\u001b[0m \u001b[0mtrend\u001b[0m\u001b[1;33m=\u001b[0m\u001b[1;34m'mul'\u001b[0m\u001b[1;33m,\u001b[0m \u001b[0mdamped\u001b[0m\u001b[1;33m=\u001b[0m\u001b[1;32mFalse\u001b[0m\u001b[1;33m)\u001b[0m\u001b[1;33m\u001b[0m\u001b[1;33m\u001b[0m\u001b[0m\n\u001b[0m\u001b[0;32m      2\u001b[0m \u001b[0mbtc_es_model_mul_fit\u001b[0m \u001b[1;33m=\u001b[0m \u001b[0mbtc_es_model_mul\u001b[0m\u001b[1;33m.\u001b[0m\u001b[0mfit\u001b[0m\u001b[1;33m(\u001b[0m\u001b[1;33m)\u001b[0m\u001b[1;33m\u001b[0m\u001b[1;33m\u001b[0m\u001b[0m\n\u001b[0;32m      3\u001b[0m \u001b[0mprint\u001b[0m\u001b[1;33m(\u001b[0m\u001b[0mbtc_es_model_mul_fit\u001b[0m\u001b[1;33m.\u001b[0m\u001b[0msummary\u001b[0m\u001b[1;33m(\u001b[0m\u001b[1;33m)\u001b[0m\u001b[1;33m)\u001b[0m\u001b[1;33m\u001b[0m\u001b[1;33m\u001b[0m\u001b[0m\n\u001b[0;32m      4\u001b[0m \u001b[0mbtc_es_model_mul_pred\u001b[0m \u001b[1;33m=\u001b[0m \u001b[0mbtc_es_model_mul_fit\u001b[0m\u001b[1;33m.\u001b[0m\u001b[0mforecast\u001b[0m\u001b[1;33m(\u001b[0m\u001b[1;36m30\u001b[0m\u001b[1;33m)\u001b[0m\u001b[1;33m\u001b[0m\u001b[1;33m\u001b[0m\u001b[0m\n",
      "\u001b[1;31mNameError\u001b[0m: name 'train_esm' is not defined"
     ]
    }
   ],
   "source": [
    "btc_es_model_mul = ExponentialSmoothing(train_esm, trend='mul', damped=False)\n",
    "btc_es_model_mul_fit = btc_es_model_mul.fit()\n",
    "print(btc_es_model_mul_fit.summary())\n",
    "btc_es_model_mul_pred = btc_es_model_mul_fit.forecast(30)"
   ]
  },
  {
   "cell_type": "code",
   "execution_count": null,
   "id": "a8ff4967",
   "metadata": {},
   "outputs": [],
   "source": [
    "predictions_test_mul = [x for x in btc_es_model_mul_pred]\n",
    "observations_test_mul = [x for x in test]"
   ]
  },
  {
   "cell_type": "code",
   "execution_count": null,
   "id": "63d58d61",
   "metadata": {},
   "outputs": [],
   "source": [
    "r2 = r2_score(observations_test_mul, predictions_test_mul)\n",
    "print(f'Test set r-squared for Double ES (multiplicative) is: {round(r2, 2)}')\n",
    "mape = mean_absolute_percentage_error(observations_test_mul, predictions_test_mul)\n",
    "print(f'Test set MAPE for Double ES (multiplicative) is: {round(mape, 2) * 100}%')"
   ]
  },
  {
   "cell_type": "code",
   "execution_count": null,
   "id": "e3a5b92e",
   "metadata": {},
   "outputs": [],
   "source": [
    "plt.plot(observations_test_mul, label='Expected')\n",
    "plt.plot(predictions_test_mul, label='Predicted', color='red', alpha=0.5)\n",
    "legend = plt.legend(loc='upper center', shadow=True, fontsize='x-large')\n",
    "plt.title(\"Train set Predicted vs Expected\")\n",
    "plt.show()"
   ]
  },
  {
   "cell_type": "markdown",
   "id": "da7b2815",
   "metadata": {},
   "source": [
    "Still, results are terrible. What might be a reason for it? I assume the reason is the way we splitted our data. If we take a look at the original price chart, we will see a serious structural change at the end of it. Before last month of observations the trend was pretty much linear, while in the last month it's clearly exponential. And that last month is exactly what we used as the test set. We can make a test set bigger (20%, let's say) and then check if the model will be able to catch the trend better."
   ]
  },
  {
   "cell_type": "code",
   "execution_count": null,
   "id": "a090e493",
   "metadata": {},
   "outputs": [],
   "source": [
    "# train-test split\n",
    "train_size = int(len(btc_price) * 0.8)\n",
    "train, test = btc_price[0:train_size], btc_price[train_size:len(btc_price)]\n",
    "print(f'Total Observations: {(len(btc_price))}')\n",
    "print(f'Training Observations: {(len(train))}')\n",
    "print(f'Testing Observations: {(len(test))}')"
   ]
  },
  {
   "cell_type": "code",
   "execution_count": null,
   "id": "128a5970",
   "metadata": {},
   "outputs": [],
   "source": [
    "btc_es_model_mul = ExponentialSmoothing(train, trend='mul', damped=False)\n",
    "btc_es_model_mul_fit = btc_es_model_mul.fit()\n",
    "print(btc_es_model_mul_fit.summary())\n",
    "btc_es_model_mul_pred = btc_es_model_mul_fit.forecast(602)"
   ]
  },
  {
   "cell_type": "code",
   "execution_count": null,
   "id": "1a09c2b1",
   "metadata": {},
   "outputs": [],
   "source": [
    "predictions_test_mul = [x for x in btc_es_model_mul_pred]\n",
    "observations_test_mul = [x for x in test]"
   ]
  },
  {
   "cell_type": "code",
   "execution_count": null,
   "id": "5fe76f74",
   "metadata": {},
   "outputs": [],
   "source": [
    "r2 = r2_score(observations_test_mul, predictions_test_mul)\n",
    "print(f'Test set r-squared for Double ES (multiplicative) is: {round(r2, 2)}')\n",
    "mape = mean_absolute_percentage_error(observations_test_mul, predictions_test_mul)\n",
    "print(f'Test set MAPE for Double ES (multiplicative) is: {round(mape, 2) * 100}%')"
   ]
  },
  {
   "cell_type": "code",
   "execution_count": null,
   "id": "ec1f5a67",
   "metadata": {},
   "outputs": [],
   "source": [
    "plt.plot(observations_test_mul, label='Expected')\n",
    "plt.plot(predictions_test_mul, label='Predicted', color='red', alpha=0.5)\n",
    "legend = plt.legend(loc='upper center', shadow=True, fontsize='x-large')\n",
    "plt.title(\"Train set Predicted vs Expected (20% test set)\")\n",
    "plt.show()"
   ]
  },
  {
   "cell_type": "markdown",
   "id": "85af5ec8",
   "metadata": {},
   "source": [
    "Indeed, even though the MAPE went higher up to 40%, we can see on the graph that the model was able to catch the general trend. The r-squared is now 0.39 However, it's performance is still significantly worse than the one of our baseline ARIMA(2,1,1) model."
   ]
  },
  {
   "cell_type": "markdown",
   "id": "14ff8f0f",
   "metadata": {},
   "source": [
    "### Algorithm 2 - Facebook Prophet"
   ]
  },
  {
   "cell_type": "markdown",
   "id": "a5a584d3",
   "metadata": {},
   "source": [
    "Next, we will start with Facebook Prophet model.<br>\n",
    "Prophet is a time-series forecasting algorithm developped by Facebook and is a part of Kats - a framework for time-series analysis, which includes several models. It is important to note that, according to its developers, the main idea behind Prophet is to make *generic* time series analysis easier - generic meaning time series that are most common in business, which have any of the following characteristics:<br>\n",
    "<ul>\n",
    "    - hourly, daily, or weekly observations with at least a few months (preferably a year) of history<br>\n",
    "    - strong multiple “human-scale” seasonalities: day of week and time of year<br>\n",
    "    - important holidays that occur at irregular intervals that are known in advance<br>\n",
    "    - a reasonable number of missing observations or large outliers<br>\n",
    "    - historical trend changes, for instance due to product launches or logging changes<br>\n",
    "    - trends that are non-linear growth curves, where a trend hits a natural limit or saturates<br>\n",
    "</ul>\n",
    "    \n",
    "Prophet \"<i>implements a procedure for forecasting time series data based on an additive model where non-linear trends are fit with yearly, weekly, and daily seasonality, plus holiday effects</i> [Package \"prophet\", 2019].<br>"
   ]
  },
  {
   "cell_type": "markdown",
   "id": "f6be5acb",
   "metadata": {},
   "source": [
    "The Prophet's fit() function takes a DataFrame of time series data. The DataFrame must have a specific format. The first column must have the name ‘ds‘ and contain the datetime objects. The second column must have the name ‘y‘ and contain the observations."
   ]
  },
  {
   "cell_type": "code",
   "execution_count": null,
   "id": "ff21b57e",
   "metadata": {},
   "outputs": [],
   "source": [
    "# subsetting the \"date\" and \"close\" columns from the original dataframe\n",
    "btc_prophet_df = btc[['Date', 'Close']]\n",
    "# renaming the columns according to Prophet's standard\n",
    "btc_prophet_df.columns = ['ds', 'y']\n",
    "# making sure 'ds' column observations are datetime objects\n",
    "btc_prophet_df['ds'] = pd.to_datetime(btc_prophet_df['ds'])"
   ]
  },
  {
   "cell_type": "code",
   "execution_count": null,
   "id": "0662d31b",
   "metadata": {},
   "outputs": [],
   "source": [
    "btc_prophet_df = btc_prophet_df.sort_values(by='ds', ascending=True)"
   ]
  },
  {
   "cell_type": "code",
   "execution_count": null,
   "id": "768d363e",
   "metadata": {},
   "outputs": [],
   "source": [
    "# train-test split\n",
    "test_size = int(len(btc_prophet_df) * 0.8)\n",
    "train_pr, test_pr = btc_prophet_df[0:train_size], btc_prophet_df[train_size:len(btc_prophet_df)]\n",
    "print(f'Total Observations: {(len(btc_prophet_df))}')\n",
    "print(f'Training Observations: {(len(train_pr))}')\n",
    "print(f'Testing Observations: {(len(test_pr))}')"
   ]
  },
  {
   "cell_type": "code",
   "execution_count": null,
   "id": "8728df92",
   "metadata": {},
   "outputs": [],
   "source": [
    "btc_prophet_mod = Prophet(daily_seasonality=False);\n",
    "btc_prophet_mod.fit(train_pr);\n",
    "btc_prophet_pred = btc_prophet_mod.predict(test_pr)\n",
    "print(btc_prophet_pred[['ds', 'yhat', 'yhat_lower', 'yhat_upper']].head())"
   ]
  },
  {
   "cell_type": "code",
   "execution_count": null,
   "id": "2e4104d9",
   "metadata": {},
   "outputs": [],
   "source": [
    "btc_prophet_mod.plot(btc_prophet_pred);"
   ]
  },
  {
   "cell_type": "code",
   "execution_count": null,
   "id": "35b7d9cb",
   "metadata": {},
   "outputs": [],
   "source": [
    "r2 = r2_score(test_pr['y'], btc_prophet_pred['yhat'])\n",
    "print(f'Test set r-squared for Prophet is: {round(r2, 2)}')\n",
    "# mape = mean_absolute_percentage_error(test_pr['y'], btc_prophet_pred['yhat'])\n",
    "# print(f'Test set MAPE for Prophet is: {round(mape,2) * 100}%')"
   ]
  },
  {
   "cell_type": "code",
   "execution_count": null,
   "id": "358de2dc",
   "metadata": {},
   "outputs": [],
   "source": [
    "plt.plot(test_pr['y'], label='Expected')\n",
    "plt.plot(btc_prophet_pred['yhat'], label='Predicted', color='red', alpha=0.5)\n",
    "legend = plt.legend(loc='upper center', shadow=True, fontsize='x-large')\n",
    "plt.title('Test set predicted vs expected values (Prophet)')\n",
    "plt.show()"
   ]
  },
  {
   "cell_type": "markdown",
   "id": "794916e3",
   "metadata": {},
   "source": [
    "Again, the results are bad. This is, however, a little bit more understandable. As I mentioned above, Prophet is not really created to handle time-series like BTC price - which is quite volatile, doesn't have clear seasonality and overall hard to predict."
   ]
  },
  {
   "cell_type": "markdown",
   "id": "8936d569",
   "metadata": {},
   "source": [
    "Here is a quick summary table of all the models we've built. All the models performance were checked using the same exact test set."
   ]
  },
  {
   "cell_type": "markdown",
   "id": "32d23a0a",
   "metadata": {},
   "source": [
    "| MODEL | OBSERVATIONS | r-squared | MAPE |\n",
    "| ------| -------------|---- | ---- | \n",
    "| ARIMA(2,1,1)| 30 | 0.37 | 3% |\n",
    "| Exponential Smoothing (additive) | 30 | -0.24 | 366% |\n",
    "| Exponential Smoothing (multiplicative)| 30 | -3.19 | 494% |\n",
    "| Exponential Smoothing (multiplicative, big test set)| 692 | -1.19 | 195% |\n",
    "| Facebook Prophet | 30 |"
   ]
  }
 ],
 "metadata": {
  "kernelspec": {
   "display_name": "Python 3 (ipykernel)",
   "language": "python",
   "name": "python3"
  },
  "language_info": {
   "codemirror_mode": {
    "name": "ipython",
    "version": 3
   },
   "file_extension": ".py",
   "mimetype": "text/x-python",
   "name": "python",
   "nbconvert_exporter": "python",
   "pygments_lexer": "ipython3",
   "version": "3.8.10"
  }
 },
 "nbformat": 4,
 "nbformat_minor": 5
}
